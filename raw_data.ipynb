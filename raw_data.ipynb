{
 "cells": [
  {
   "cell_type": "code",
   "execution_count": 1,
   "metadata": {},
   "outputs": [],
   "source": [
    "import time\n",
    "import os\n",
    "import glob\n",
    "from pathlib import Path\n",
    "\n",
    "import numpy as np\n",
    "import matplotlib.pyplot as plt\n",
    "\n",
    "import librosa\n",
    "import librosa.display\n",
    "\n",
    "%matplotlib inline"
   ]
  },
  {
   "cell_type": "code",
   "execution_count": 2,
   "metadata": {},
   "outputs": [],
   "source": [
    "#path_name = \"/Users/betashort/Downloads/16000_pcm_speeches/\"\n",
    "path_name = \"I:/Kaggle/16000_pcm_speeches/\""
   ]
  },
  {
   "cell_type": "code",
   "execution_count": 3,
   "metadata": {},
   "outputs": [
    {
     "data": {
      "text/plain": [
       "True"
      ]
     },
     "execution_count": 3,
     "metadata": {},
     "output_type": "execute_result"
    }
   ],
   "source": [
    "os.path.exists(path_name)"
   ]
  },
  {
   "cell_type": "code",
   "execution_count": 4,
   "metadata": {},
   "outputs": [
    {
     "data": {
      "text/plain": [
       "['Benjamin_Netanyau',\n",
       " 'Jens_Stoltenberg',\n",
       " 'Julia_Gillard',\n",
       " 'Magaret_Tarcher',\n",
       " 'Nelson_Mandela',\n",
       " 'other',\n",
       " 'tf_Wav_reader.py',\n",
       " '_background_noise_']"
      ]
     },
     "execution_count": 4,
     "metadata": {},
     "output_type": "execute_result"
    }
   ],
   "source": [
    "os.listdir(path_name)"
   ]
  },
  {
   "cell_type": "code",
   "execution_count": 5,
   "metadata": {},
   "outputs": [],
   "source": [
    "speaker_label = {'Jens_Stoltenberg' : 0,\n",
    "                 'Benjamin_Netanyau': 1,                 \n",
    "                 'Julia_Gillard' : 2,\n",
    "                 'Magaret_Tarcher' : 3,\n",
    "                 'Nelson_Mandela' : 4,\n",
    "                }"
   ]
  },
  {
   "cell_type": "markdown",
   "metadata": {},
   "source": [
    "0~1499"
   ]
  },
  {
   "cell_type": "code",
   "execution_count": 6,
   "metadata": {},
   "outputs": [],
   "source": [
    "import torch\n",
    "import torch.nn as nn\n",
    "import torch.optim as optim"
   ]
  },
  {
   "cell_type": "code",
   "execution_count": 7,
   "metadata": {},
   "outputs": [
    {
     "data": {
      "text/plain": [
       "'1.2.0'"
      ]
     },
     "execution_count": 7,
     "metadata": {},
     "output_type": "execute_result"
    }
   ],
   "source": [
    "torch.__version__"
   ]
  },
  {
   "cell_type": "code",
   "execution_count": 8,
   "metadata": {},
   "outputs": [],
   "source": [
    "import torch.utils.data"
   ]
  },
  {
   "cell_type": "code",
   "execution_count": 9,
   "metadata": {},
   "outputs": [],
   "source": [
    "class Audio_Datasets(torch.utils.data.Dataset):\n",
    "    \n",
    "    def __init__(self, file_label_list):\n",
    "        self.path = file_label_list\n",
    "        self.sr = 22000\n",
    "    \n",
    "    def __len__(self):\n",
    "        \n",
    "        return len(self.path)\n",
    "    \n",
    "    def __getitem__(self, idx):\n",
    "        data, _ = librosa.load(self.path[idx][0])\n",
    "        data = data[:self.sr]\n",
    "        data = data.reshape(1, self.sr)\n",
    "        label = np.array(self.path[idx][1])\n",
    "        \n",
    "        return data, label"
   ]
  },
  {
   "cell_type": "code",
   "execution_count": 10,
   "metadata": {},
   "outputs": [],
   "source": [
    "def Read_file_label(speaker_label):\n",
    "    file_label_list = []\n",
    "    file_list = []\n",
    "    label_list = []\n",
    "    \n",
    "    for label in speaker_label.keys():\n",
    "        n_file = len(glob.glob(os.path.join(path_name, list(speaker_label.keys())[0])+\"/*.wav\"))\n",
    "        \n",
    "        for i in range(n_file):\n",
    "            \n",
    "            file_label_list.append((os.path.join(path_name, label, f\"{i}.wav\"), speaker_label[label]))\n",
    "            \n",
    "            file_list.append(os.path.join(path_name, label, f\"{i}.wav\"))\n",
    "            label_list.append(speaker_label[label])\n",
    "            \n",
    "    return file_label_list, file_list, label_list"
   ]
  },
  {
   "cell_type": "code",
   "execution_count": 11,
   "metadata": {},
   "outputs": [],
   "source": [
    "file_label_list, file_list, label_list = Read_file_label(speaker_label)"
   ]
  },
  {
   "cell_type": "markdown",
   "metadata": {},
   "source": [
    "dataset = Audio_Datasets(file_label_list)"
   ]
  },
  {
   "cell_type": "markdown",
   "metadata": {},
   "source": [
    "dataloader = torch.utils.data.DataLoader(dataset, batch_size=120)"
   ]
  },
  {
   "cell_type": "code",
   "execution_count": 12,
   "metadata": {},
   "outputs": [],
   "source": [
    "from sklearn.model_selection import train_test_split\n",
    "from sklearn.metrics import accuracy_score"
   ]
  },
  {
   "cell_type": "code",
   "execution_count": 13,
   "metadata": {},
   "outputs": [],
   "source": [
    "X_train, X_valid, y_train, y_valid = train_test_split(file_list, label_list, test_size=0.2)"
   ]
  },
  {
   "cell_type": "code",
   "execution_count": 14,
   "metadata": {},
   "outputs": [
    {
     "data": {
      "image/png": "[encoded data removed]",
      "text/plain": [
       "<Figure size 1152x288 with 2 Axes>"
      ]
     },
     "metadata": {
      "needs_background": "light"
     },
     "output_type": "display_data"
    }
   ],
   "source": [
    "plt.figure(figsize=(16, 4))\n",
    "plt.subplot(1, 2, 1)\n",
    "plt.hist(y_train)\n",
    "plt.title(\"train\")\n",
    "plt.subplot(1, 2, 2)\n",
    "plt.hist(y_valid)\n",
    "plt.title(\"Valid\")\n",
    "plt.show()"
   ]
  },
  {
   "cell_type": "code",
   "execution_count": 15,
   "metadata": {},
   "outputs": [],
   "source": [
    "train = [(X_train[idx], y_train[idx]) for idx in range(len(X_train))]\n",
    "valid = [(X_valid[idx], y_valid[idx]) for idx in range(len(X_valid))]"
   ]
  },
  {
   "cell_type": "code",
   "execution_count": 16,
   "metadata": {},
   "outputs": [],
   "source": [
    "train_loader = torch.utils.data.DataLoader(Audio_Datasets(train), batch_size=120, shuffle = True)\n",
    "valid_loader = torch.utils.data.DataLoader(Audio_Datasets(valid), batch_size=120, shuffle = True)"
   ]
  },
  {
   "cell_type": "markdown",
   "metadata": {},
   "source": [
    "# Network"
   ]
  },
  {
   "cell_type": "code",
   "execution_count": 17,
   "metadata": {},
   "outputs": [],
   "source": [
    "class Net1D(nn.Module):\n",
    "    def __init__(self):\n",
    "        super(Net1D,self).__init__()\n",
    "        \n",
    "        self.conv1 = nn.Sequential(nn.Conv1d(1, 8, kernel_size=10, stride=1),\n",
    "                                   nn.BatchNorm1d(8),\n",
    "                                   nn.ReLU(),\n",
    "                                   nn.MaxPool1d(kernel_size=10, stride=2),\n",
    "                                  )\n",
    "        \n",
    "        self.conv2 = nn.Sequential(nn.Conv1d(8, 32, kernel_size=100, stride=1),\n",
    "                                   nn.BatchNorm1d(32),\n",
    "                                   nn.ReLU(),\n",
    "                                   nn.MaxPool1d(kernel_size=100, stride=2),\n",
    "                                  )\n",
    "        \n",
    "        self.conv3 = nn.Sequential(nn.Conv1d(32, 64, kernel_size=300, stride=1),\n",
    "                                   nn.BatchNorm1d(64),\n",
    "                                   nn.ReLU(),\n",
    "                                   nn.MaxPool1d(kernel_size=300, stride=2),\n",
    "                                  )\n",
    "        \n",
    "        self.conv4 = nn.Sequential(nn.Conv1d(64, 128, kernel_size=500, stride=1),\n",
    "                                   nn.BatchNorm1d(128),\n",
    "                                   nn.ReLU(),\n",
    "                                   nn.MaxPool1d(kernel_size=500, stride=2),\n",
    "                                  )\n",
    "        \n",
    "        \n",
    "        self.dense = nn.Sequential(nn.Linear(89728, 512),\n",
    "                                   nn.ReLU(),\n",
    "                                   nn.Dropout(),\n",
    "                                   nn.Linear(512,128),\n",
    "                                   nn.ReLU(),\n",
    "                                   nn.Dropout(),\n",
    "                                   nn.Linear(128, 5),\n",
    "                                  )\n",
    "\n",
    "\n",
    "    def forward(self,x):\n",
    "        \n",
    "        x = self.conv1(x)\n",
    "        x = self.conv2(x)\n",
    "        x = self.conv3(x)\n",
    "        x = self.conv4(x)\n",
    "        x = x.view(x.size(0),-1)\n",
    "        x = self.dense(x)\n",
    "\n",
    "        return x\n",
    "    \n",
    "    def check_size(self, x):\n",
    "        x = self.conv1(x)\n",
    "        x = self.conv2(x)\n",
    "        x = self.conv3(x)\n",
    "        x = self.conv4(x)\n",
    "        x = x.view(x.size(0),-1)\n",
    "\n",
    "        return x"
   ]
  },
  {
   "cell_type": "code",
   "execution_count": 18,
   "metadata": {},
   "outputs": [],
   "source": [
    "class Net1D(nn.Module):\n",
    "    def __init__(self):\n",
    "        super(Net1D,self).__init__()\n",
    "        \n",
    "        self.conv1 = nn.Sequential(nn.Conv1d(1, 8, kernel_size=3, stride=1),\n",
    "                                   nn.BatchNorm1d(8),\n",
    "                                   nn.ReLU(),\n",
    "                                   nn.MaxPool1d(kernel_size=3, stride=2),\n",
    "                                  )\n",
    "        \n",
    "        self.conv2 = nn.Sequential(nn.Conv1d(8, 32, kernel_size=5, stride=1),\n",
    "                                   nn.BatchNorm1d(32),\n",
    "                                   nn.ReLU(),\n",
    "                                   nn.MaxPool1d(kernel_size=5, stride=2),\n",
    "                                  )\n",
    "        \n",
    "        self.conv3 = nn.Sequential(nn.Conv1d(32, 64, kernel_size=7, stride=1),\n",
    "                                   nn.BatchNorm1d(64),\n",
    "                                   nn.ReLU(),\n",
    "                                   nn.MaxPool1d(kernel_size=7, stride=2),\n",
    "                                  )\n",
    "        \n",
    "        self.conv4 = nn.Sequential(nn.Conv1d(64, 128, kernel_size=9, stride=1),\n",
    "                                   nn.BatchNorm1d(128),\n",
    "                                   nn.ReLU(),\n",
    "                                   nn.MaxPool1d(kernel_size=9, stride=2),\n",
    "                                  )\n",
    "        \n",
    "        \n",
    "        self.dense = nn.Sequential(nn.Linear(174464, 512),\n",
    "                                   nn.ReLU(),\n",
    "                                   nn.Dropout(),\n",
    "                                   nn.Linear(512,128),\n",
    "                                   nn.ReLU(),\n",
    "                                   nn.Dropout(),\n",
    "                                   nn.Linear(128, 5),\n",
    "                                  )\n",
    "\n",
    "\n",
    "    def forward(self,x):\n",
    "        \n",
    "        x = self.conv1(x)\n",
    "        x = self.conv2(x)\n",
    "        x = self.conv3(x)\n",
    "        x = self.conv4(x)\n",
    "        x = x.view(x.size(0),-1)\n",
    "        x = self.dense(x)\n",
    "\n",
    "        return x\n",
    "    \n",
    "    def check_size(self, x):\n",
    "        x = self.conv1(x)\n",
    "        x = self.conv2(x)\n",
    "        x = self.conv3(x)\n",
    "        x = self.conv4(x)\n",
    "        x = x.view(x.size(0),-1)\n",
    "\n",
    "        return x"
   ]
  },
  {
   "cell_type": "code",
   "execution_count": 19,
   "metadata": {},
   "outputs": [
    {
     "name": "stdout",
     "output_type": "stream",
     "text": [
      "torch.Size([10, 174464])\n"
     ]
    }
   ],
   "source": [
    "device='cuda' if torch.cuda.is_available() else 'cpu'\n",
    "\n",
    "model = Net1D().to(device)\n",
    "\n",
    "size_check = torch.FloatTensor(10, 1, 22000).to(device)\n",
    "print(model.check_size(size_check).size())"
   ]
  },
  {
   "cell_type": "code",
   "execution_count": 20,
   "metadata": {},
   "outputs": [],
   "source": [
    "#model = Net1D().to(device)\n",
    "#weights = torch.tensor([1]).to(device)\n",
    "\n",
    "criterion = nn.CrossEntropyLoss()\n",
    "\n",
    "optimizer = optim.Adam(model.parameters(), lr=0.001)"
   ]
  },
  {
   "cell_type": "code",
   "execution_count": 21,
   "metadata": {},
   "outputs": [],
   "source": [
    "#==== 学習 ====\n",
    "def learning(train_loader, val_loader, num_epochs=20):\n",
    "    train_loss_list = []\n",
    "    train_acc_list = []\n",
    "    valid_loss_list = []\n",
    "    valid_acc_list = []\n",
    "    \n",
    "    for epoch in range(num_epochs):\n",
    "        train_loss = 0\n",
    "        train_acc = 0\n",
    "        valid_loss = 0\n",
    "        valid_acc = 0\n",
    "        \n",
    "        \n",
    "        #==== 学習 ====\n",
    "        model.train()\n",
    "        \n",
    "        for images, labels in train_loader:\n",
    "            #==== deviceに渡す\n",
    "            images = images.to(device)\n",
    "            labels = labels.to(device, dtype=torch.int64)\n",
    "            \n",
    "            #==== Optimizerの初期化 ====\n",
    "            optimizer.zero_grad()\n",
    "            \n",
    "            #==== forward processing ====\n",
    "            outputs = model(images)\n",
    "            \n",
    "            #==== Loss calcuration ====\n",
    "            loss = criterion(outputs, labels)\n",
    "            \n",
    "            #==== backward processing ====\n",
    "            loss.backward()\n",
    "            \n",
    "            #==== update optimizer ====\n",
    "            optimizer.step()\n",
    "            \n",
    "            train_loss += loss.item()\n",
    "            '''\n",
    "            train_acc += accuracy_score(labels.cpu().detach().clone().numpy(), \n",
    "                                        np.argmax(outputs.cpu().detach().clone().numpy(), axis=1),\n",
    "                                        )\n",
    "            '''\n",
    "            train_acc += (outputs.max(1)[1] == labels).sum().item()\n",
    "            \n",
    "        avg_train_loss = train_loss / len(train_loader.dataset)\n",
    "        avg_train_acc = train_acc / len(train_loader.dataset)\n",
    "        \n",
    "        #==== 検証 =====\n",
    "        model.eval()\n",
    "        \n",
    "        #重みを変えさせない\n",
    "        with torch.no_grad():\n",
    "            for images, labels in valid_loader:\n",
    "                images = images.to(device)\n",
    "                labels = labels.to(device, dtype=torch.int64)\n",
    "                \n",
    "                outputs = model(images)\n",
    "                loss = criterion(outputs, labels)\n",
    "                \n",
    "                valid_loss += loss.item()\n",
    "                '''\n",
    "                valid_acc += accuracy_score(labels.cpu().detach().clone().numpy(), \n",
    "                                            np.argmax(outputs.cpu().detach().clone().numpy(), axis=1),\n",
    "                                           )\n",
    "                '''\n",
    "                valid_acc += (outputs.max(1)[1] == labels).sum().item()\n",
    "                \n",
    "        avg_valid_loss = valid_loss / len(valid_loader.dataset)\n",
    "        avg_valid_acc = valid_acc / len(valid_loader.dataset)\n",
    "        \n",
    "        print(f\"=====  epoch: {epoch+1} ===== \\\n",
    "        \\n train_loss: {avg_train_loss}, valid_loss: {avg_valid_loss} \\\n",
    "        \\n train_acc: {avg_train_acc}, valid_acc: {avg_valid_acc}\")\n",
    "        \n",
    "        train_loss_list.append(avg_train_loss)\n",
    "        train_acc_list.append(avg_train_acc)\n",
    "        valid_loss_list.append(avg_valid_loss)\n",
    "        valid_acc_list.append(avg_valid_acc)\n",
    "        \n",
    "    loss_list = [train_loss_list, valid_loss_list]\n",
    "    acc_list = [train_acc_list, valid_acc_list]\n",
    "    \n",
    "    return loss_list, acc_list"
   ]
  },
  {
   "cell_type": "code",
   "execution_count": 22,
   "metadata": {},
   "outputs": [
    {
     "name": "stdout",
     "output_type": "stream",
     "text": [
      "=====  epoch: 1 =====         \n",
      " train_loss: 0.04589860834678014, valid_loss: 0.012079405864079793         \n",
      " train_acc: 0.391, valid_acc: 0.37266666666666665\n",
      "=====  epoch: 2 =====         \n",
      " train_loss: 0.008872874001661937, valid_loss: 0.006421880761782329         \n",
      " train_acc: 0.5445, valid_acc: 0.692\n",
      "=====  epoch: 3 =====         \n",
      " train_loss: 0.0068321093718210855, valid_loss: 0.004939981540044149         \n",
      " train_acc: 0.6491666666666667, valid_acc: 0.796\n",
      "=====  epoch: 4 =====         \n",
      " train_loss: 0.005504226624965668, valid_loss: 0.004168724199136099         \n",
      " train_acc: 0.7311666666666666, valid_acc: 0.82\n",
      "=====  epoch: 5 =====         \n",
      " train_loss: 0.004506903643409411, valid_loss: 0.0032686832745869956         \n",
      " train_acc: 0.7916666666666666, valid_acc: 0.8373333333333334\n",
      "=====  epoch: 6 =====         \n",
      " train_loss: 0.004129815186063449, valid_loss: 0.003155112326145172         \n",
      " train_acc: 0.8141666666666667, valid_acc: 0.8266666666666667\n",
      "=====  epoch: 7 =====         \n",
      " train_loss: 0.0031970424205064775, valid_loss: 0.002017229119936625         \n",
      " train_acc: 0.8538333333333333, valid_acc: 0.8873333333333333\n",
      "=====  epoch: 8 =====         \n",
      " train_loss: 0.0026538818553090097, valid_loss: 0.0026961147288481393         \n",
      " train_acc: 0.8846666666666667, valid_acc: 0.8933333333333333\n",
      "=====  epoch: 9 =====         \n",
      " train_loss: 0.002739196536441644, valid_loss: 0.0023131936192512513         \n",
      " train_acc: 0.8805, valid_acc: 0.8833333333333333\n",
      "=====  epoch: 10 =====         \n",
      " train_loss: 0.0025325604577859243, valid_loss: 0.004077075401941935         \n",
      " train_acc: 0.8885, valid_acc: 0.8426666666666667\n",
      "=====  epoch: 11 =====         \n",
      " train_loss: 0.0021288645304739476, valid_loss: 0.004514043351014455         \n",
      " train_acc: 0.9026666666666666, valid_acc: 0.8153333333333334\n",
      "=====  epoch: 12 =====         \n",
      " train_loss: 0.00191724739347895, valid_loss: 0.001470014676451683         \n",
      " train_acc: 0.914, valid_acc: 0.944\n",
      "=====  epoch: 13 =====         \n",
      " train_loss: 0.0017701820755998293, valid_loss: 0.0013816704402367275         \n",
      " train_acc: 0.9226666666666666, valid_acc: 0.9373333333333334\n",
      "=====  epoch: 14 =====         \n",
      " train_loss: 0.0018786599996189275, valid_loss: 0.0010526030610005061         \n",
      " train_acc: 0.9241666666666667, valid_acc: 0.9513333333333334\n",
      "=====  epoch: 15 =====         \n",
      " train_loss: 0.0014625287987291814, valid_loss: 0.0010449777990579605         \n",
      " train_acc: 0.9388333333333333, valid_acc: 0.9593333333333334\n",
      "=====  epoch: 16 =====         \n",
      " train_loss: 0.0014465133001406987, valid_loss: 0.0012314107020696004         \n",
      " train_acc: 0.9355, valid_acc: 0.956\n",
      "=====  epoch: 17 =====         \n",
      " train_loss: 0.0011978595194717249, valid_loss: 0.0011212580079833665         \n",
      " train_acc: 0.9456666666666667, valid_acc: 0.9566666666666667\n",
      "=====  epoch: 18 =====         \n",
      " train_loss: 0.001338089973355333, valid_loss: 0.001320001482963562         \n",
      " train_acc: 0.9443333333333334, valid_acc: 0.9466666666666667\n",
      "=====  epoch: 19 =====         \n",
      " train_loss: 0.0011081301358838876, valid_loss: 0.0009384126762549082         \n",
      " train_acc: 0.952, valid_acc: 0.9586666666666667\n",
      "=====  epoch: 20 =====         \n",
      " train_loss: 0.0009071485158056021, valid_loss: 0.001085603562494119         \n",
      " train_acc: 0.957, valid_acc: 0.956\n"
     ]
    }
   ],
   "source": [
    "start = time.time()\n",
    "loss_list, acc_list = learning(train_loader, valid_loader)\n",
    "end = time.time()"
   ]
  },
  {
   "cell_type": "code",
   "execution_count": 32,
   "metadata": {},
   "outputs": [
    {
     "data": {
      "image/png": "[encoded data removed]",
      "text/plain": [
       "<Figure size 1152x360 with 2 Axes>"
      ]
     },
     "metadata": {
      "needs_background": "light"
     },
     "output_type": "display_data"
    }
   ],
   "source": [
    "'''\n",
    "plt.figure(figsize=(16, 5))\n",
    "plt.subplot(2, 2, 1)\n",
    "plt.plot(loss_list[0])\n",
    "plt.title(\"train_loss\")\n",
    "\n",
    "plt.subplot(2, 2, 2)\n",
    "plt.plot(loss_list[1])\n",
    "plt.title(\"valid_loss\")\n",
    "\n",
    "plt.subplots_adjust(wspace=0.4, hspace=0.6)\n",
    "\n",
    "plt.subplot(2, 2, 3)\n",
    "plt.plot(acc_list[0])\n",
    "plt.title(\"train_acc\")\n",
    "\n",
    "plt.subplot(2, 2, 4)\n",
    "plt.plot(acc_list[1])\n",
    "plt.title(\"valid_acc\")\n",
    "\n",
    "plt.savefig(\"1dcnn.png\")\n",
    "'''\n",
    "\n",
    "plt.figure(figsize=(16, 5))\n",
    "plt.subplot(1, 2, 1)\n",
    "plt.plot(loss_list[0], label=\"train\")\n",
    "plt.plot(loss_list[1], label=\"Valid\")\n",
    "plt.title(\"loss\")\n",
    "plt.legend()\n",
    "\n",
    "plt.subplot(1, 2, 2)\n",
    "plt.plot(acc_list[0], label=\"train\")\n",
    "plt.plot(acc_list[1], label=\"valid\")\n",
    "plt.title(\"acc\")\n",
    "plt.legend()\n",
    "\n",
    "plt.savefig(\"1dcnn2.png\")"
   ]
  },
  {
   "cell_type": "code",
   "execution_count": 24,
   "metadata": {},
   "outputs": [],
   "source": [
    "p_time = end-start\n",
    "hour = int(p_time // 3600)\n",
    "tmp = p_time%3600\n",
    "minits = int(tmp // 60)\n",
    "second = int(tmp % 60)"
   ]
  },
  {
   "cell_type": "code",
   "execution_count": 34,
   "metadata": {},
   "outputs": [
    {
     "name": "stdout",
     "output_type": "stream",
     "text": [
      "学習が終了しました。\n",
      " 1 h 1m 41s　かかりました。 \n"
     ]
    }
   ],
   "source": [
    "print( f\"学習が終了しました。\\n {hour} h {minits}m {second}s　かかりました。 \")"
   ]
  },
  {
   "cell_type": "code",
   "execution_count": 36,
   "metadata": {},
   "outputs": [],
   "source": [
    "#====== 保存 =======\n",
    "torch.save(model.state_dict(), \"./params/model.pth\")"
   ]
  },
  {
   "cell_type": "code",
   "execution_count": null,
   "metadata": {},
   "outputs": [],
   "source": []
  }
 ],
 "metadata": {
  "kernelspec": {
   "display_name": "Python 3",
   "language": "python",
   "name": "python3"
  },
  "language_info": {
   "codemirror_mode": {
    "name": "ipython",
    "version": 3
   },
   "file_extension": ".py",
   "mimetype": "text/x-python",
   "name": "python",
   "nbconvert_exporter": "python",
   "pygments_lexer": "ipython3",
   "version": "3.6.8"
  }
 },
 "nbformat": 4,
 "nbformat_minor": 4
}
